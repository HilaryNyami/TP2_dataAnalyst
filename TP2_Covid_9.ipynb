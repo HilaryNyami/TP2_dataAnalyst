{
 "cells": [
  {
   "cell_type": "code",
   "execution_count": 2,
   "id": "c80f0bcd-9339-4b8a-a102-47050af4053c",
   "metadata": {},
   "outputs": [],
   "source": [
    "# importation des bibliothèques\n",
    "import pandas as pd\n",
    "import numpy as np\n",
    "import seaborn as sns\n",
    "import matplotlib.pyplot as plt\n",
    "from scipy import stats"
   ]
  },
  {
   "cell_type": "code",
   "execution_count": 3,
   "id": "ca29a19d-38c3-40ba-b4cd-5a9dc9af1429",
   "metadata": {},
   "outputs": [
    {
     "name": "stderr",
     "output_type": "stream",
     "text": [
      "/tmp/ipykernel_4744/3989146778.py:2: DtypeWarning: Columns (0,1) have mixed types. Specify dtype option on import or set low_memory=False.\n",
      "  df = pd.read_csv(\"covid-19-all.csv\")\n"
     ]
    },
    {
     "name": "stdout",
     "output_type": "stream",
     "text": [
      "<class 'pandas.core.frame.DataFrame'>\n",
      "RangeIndex: 1241952 entries, 0 to 1241951\n",
      "Data columns (total 8 columns):\n",
      " #   Column          Non-Null Count    Dtype  \n",
      "---  ------          --------------    -----  \n",
      " 0   Country/Region  1070891 non-null  object \n",
      " 1   Province/State  1018741 non-null  object \n",
      " 2   Latitude        1070890 non-null  float64\n",
      " 3   Longitude       1070890 non-null  float64\n",
      " 4   Confirmed       1241933 non-null  float64\n",
      " 5   Recovered       1241566 non-null  float64\n",
      " 6   Deaths          1241520 non-null  float64\n",
      " 7   Date            1241952 non-null  object \n",
      "dtypes: float64(5), object(3)\n",
      "memory usage: 75.8+ MB\n"
     ]
    }
   ],
   "source": [
    "# chargement des données depuis le fichier csv\n",
    "df = pd.read_csv(\"covid-19-all.csv\")\n",
    "df.info()"
   ]
  },
  {
   "cell_type": "code",
   "execution_count": 4,
   "id": "cfd6dd9f-dd2c-4efb-b5b9-ceeba3fc73ff",
   "metadata": {},
   "outputs": [
    {
     "data": {
      "text/html": [
       "<div>\n",
       "<style scoped>\n",
       "    .dataframe tbody tr th:only-of-type {\n",
       "        vertical-align: middle;\n",
       "    }\n",
       "\n",
       "    .dataframe tbody tr th {\n",
       "        vertical-align: top;\n",
       "    }\n",
       "\n",
       "    .dataframe thead th {\n",
       "        text-align: right;\n",
       "    }\n",
       "</style>\n",
       "<table border=\"1\" class=\"dataframe\">\n",
       "  <thead>\n",
       "    <tr style=\"text-align: right;\">\n",
       "      <th></th>\n",
       "      <th>Country/Region</th>\n",
       "      <th>Province/State</th>\n",
       "      <th>Latitude</th>\n",
       "      <th>Longitude</th>\n",
       "      <th>Confirmed</th>\n",
       "      <th>Recovered</th>\n",
       "      <th>Deaths</th>\n",
       "      <th>Date</th>\n",
       "    </tr>\n",
       "  </thead>\n",
       "  <tbody>\n",
       "    <tr>\n",
       "      <th>0</th>\n",
       "      <td>NaN</td>\n",
       "      <td>NaN</td>\n",
       "      <td>NaN</td>\n",
       "      <td>NaN</td>\n",
       "      <td>51526.0</td>\n",
       "      <td>41727.0</td>\n",
       "      <td>2191.0</td>\n",
       "      <td>2021-01-01</td>\n",
       "    </tr>\n",
       "    <tr>\n",
       "      <th>1</th>\n",
       "      <td>NaN</td>\n",
       "      <td>NaN</td>\n",
       "      <td>NaN</td>\n",
       "      <td>NaN</td>\n",
       "      <td>58316.0</td>\n",
       "      <td>33634.0</td>\n",
       "      <td>1181.0</td>\n",
       "      <td>2021-01-01</td>\n",
       "    </tr>\n",
       "    <tr>\n",
       "      <th>2</th>\n",
       "      <td>NaN</td>\n",
       "      <td>NaN</td>\n",
       "      <td>NaN</td>\n",
       "      <td>NaN</td>\n",
       "      <td>99897.0</td>\n",
       "      <td>67395.0</td>\n",
       "      <td>2762.0</td>\n",
       "      <td>2021-01-01</td>\n",
       "    </tr>\n",
       "    <tr>\n",
       "      <th>3</th>\n",
       "      <td>NaN</td>\n",
       "      <td>NaN</td>\n",
       "      <td>NaN</td>\n",
       "      <td>NaN</td>\n",
       "      <td>8117.0</td>\n",
       "      <td>7463.0</td>\n",
       "      <td>84.0</td>\n",
       "      <td>2021-01-01</td>\n",
       "    </tr>\n",
       "    <tr>\n",
       "      <th>4</th>\n",
       "      <td>NaN</td>\n",
       "      <td>NaN</td>\n",
       "      <td>NaN</td>\n",
       "      <td>NaN</td>\n",
       "      <td>17568.0</td>\n",
       "      <td>11146.0</td>\n",
       "      <td>405.0</td>\n",
       "      <td>2021-01-01</td>\n",
       "    </tr>\n",
       "  </tbody>\n",
       "</table>\n",
       "</div>"
      ],
      "text/plain": [
       "  Country/Region Province/State  Latitude  Longitude  Confirmed  Recovered  \\\n",
       "0            NaN            NaN       NaN        NaN    51526.0    41727.0   \n",
       "1            NaN            NaN       NaN        NaN    58316.0    33634.0   \n",
       "2            NaN            NaN       NaN        NaN    99897.0    67395.0   \n",
       "3            NaN            NaN       NaN        NaN     8117.0     7463.0   \n",
       "4            NaN            NaN       NaN        NaN    17568.0    11146.0   \n",
       "\n",
       "   Deaths        Date  \n",
       "0  2191.0  2021-01-01  \n",
       "1  1181.0  2021-01-01  \n",
       "2  2762.0  2021-01-01  \n",
       "3    84.0  2021-01-01  \n",
       "4   405.0  2021-01-01  "
      ]
     },
     "execution_count": 4,
     "metadata": {},
     "output_type": "execute_result"
    }
   ],
   "source": [
    "df.head()"
   ]
  },
  {
   "cell_type": "code",
   "execution_count": 14,
   "id": "f965b20a-1594-45b1-8590-2e447469280a",
   "metadata": {},
   "outputs": [
    {
     "name": "stdout",
     "output_type": "stream",
     "text": [
      "======================================== Dimensension du dataset ================================= (1241952, 8)\n",
      "\n",
      "\n",
      "======================================== Informations du dataset =================================\n",
      "\n",
      "\n",
      "<class 'pandas.core.frame.DataFrame'>\n",
      "RangeIndex: 1241952 entries, 0 to 1241951\n",
      "Data columns (total 8 columns):\n",
      " #   Column          Non-Null Count    Dtype  \n",
      "---  ------          --------------    -----  \n",
      " 0   Country/Region  1070891 non-null  object \n",
      " 1   Province/State  1018741 non-null  object \n",
      " 2   Latitude        1070890 non-null  float64\n",
      " 3   Longitude       1070890 non-null  float64\n",
      " 4   Confirmed       1241933 non-null  float64\n",
      " 5   Recovered       1241566 non-null  float64\n",
      " 6   Deaths          1241520 non-null  float64\n",
      " 7   Date            1241952 non-null  object \n",
      "dtypes: float64(5), object(3)\n",
      "memory usage: 75.8+ MB\n",
      "None\n",
      "\n",
      "\n",
      "======================================== Statistiques du dataset =================================\n",
      "\n",
      "\n",
      "                    count unique         top    freq         mean  \\\n",
      "Country/Region    1070891    218          US  897495          NaN   \n",
      "Province/State    1018741    735       Texas   68851          NaN   \n",
      "Latitude        1070890.0    NaN         NaN     NaN    36.037574   \n",
      "Longitude       1070890.0    NaN         NaN     NaN   -73.405201   \n",
      "Confirmed       1241933.0    NaN         NaN     NaN  9520.552543   \n",
      "Recovered       1241566.0    NaN         NaN     NaN  5693.209158   \n",
      "Deaths          1241520.0    NaN         NaN     NaN   252.747692   \n",
      "Date              1241952    388  2021-01-31    3979          NaN   \n",
      "\n",
      "                         std       min        25%        50%        75%  \\\n",
      "Country/Region           NaN       NaN        NaN        NaN        NaN   \n",
      "Province/State           NaN       NaN        NaN        NaN        NaN   \n",
      "Latitude           12.598339   -52.368  33.385709  37.938993  41.954474   \n",
      "Longitude          51.969592 -174.1596 -96.468437 -86.962232 -78.232007   \n",
      "Confirmed       64261.852829 -302844.0       60.0      441.0     2265.0   \n",
      "Recovered       61494.622783 -854405.0        0.0        0.0        0.0   \n",
      "Deaths           1820.422915    -178.0        1.0        7.0       44.0   \n",
      "Date                     NaN       NaN        NaN        NaN        NaN   \n",
      "\n",
      "                      max  \n",
      "Country/Region        NaN  \n",
      "Province/State        NaN  \n",
      "Latitude             72.0  \n",
      "Longitude         178.065  \n",
      "Confirmed       3516998.0  \n",
      "Recovered       6399531.0  \n",
      "Deaths           102562.0  \n",
      "Date                  NaN  \n"
     ]
    }
   ],
   "source": [
    "# informations sur le dataset\n",
    "print(\"======================================== Dimensension du dataset =================================\", df.shape)\n",
    "print(\"\\n\\n======================================== Informations du dataset =================================\\n\\n\")\n",
    "print(df.info())\n",
    "print(\"\\n\\n======================================== Statistiques du dataset =================================\\n\\n\")\n",
    "print(df.describe(include=\"all\").T)\n"
   ]
  },
  {
   "cell_type": "markdown",
   "id": "31c1bdfd-14a4-4d64-ad03-b6f359fa523a",
   "metadata": {},
   "source": [
    "# interprétation des variables\n",
    "\n",
    "#Country/Region: Pays d'origine\n",
    "\n",
    "#Province/ State: Ville ou Etat\n",
    "\n",
    "#Latitude: Latitude du pays\n",
    "\n",
    "#Longitude: Longitude du pays\n",
    "\n",
    "#Confirmed: Personnes testées positives\n",
    "\n",
    "#Recovered: Personnes rétablies\n",
    "\n",
    "#Deaths: Personnes décédées\n",
    "\n",
    "#Date: Date de publication des resultats"
   ]
  },
  {
   "cell_type": "code",
   "execution_count": 15,
   "id": "f5e4689c-ee27-4bf9-9b76-5822688571ba",
   "metadata": {},
   "outputs": [
    {
     "name": "stdout",
     "output_type": "stream",
     "text": [
      "================================================ Valeurs manquantes:=========================================\n"
     ]
    },
    {
     "data": {
      "text/plain": [
       "Country/Region    171061\n",
       "Province/State    223211\n",
       "Latitude          171062\n",
       "Longitude         171062\n",
       "Confirmed             19\n",
       "Recovered            386\n",
       "Deaths               432\n",
       "dtype: int64"
      ]
     },
     "execution_count": 15,
     "metadata": {},
     "output_type": "execute_result"
    }
   ],
   "source": [
    "# Nettoyage des valeurs manquantes\n",
    "print(\"================================================ Valeurs manquantes:=========================================\")\n",
    "valeurs_manquantes = df.isnull().sum()\n",
    "valeurs_manquantes[valeurs_manquantes > 0]"
   ]
  },
  {
   "cell_type": "code",
   "execution_count": 6,
   "id": "621426ff-ac85-459e-98d7-592a7dceb507",
   "metadata": {},
   "outputs": [
    {
     "data": {
      "text/plain": [
       "Country/Region    171061\n",
       "Province/State    223211\n",
       "Latitude               0\n",
       "Longitude              0\n",
       "Confirmed              0\n",
       "Recovered              0\n",
       "Deaths                 0\n",
       "Date                   0\n",
       "dtype: int64"
      ]
     },
     "execution_count": 6,
     "metadata": {},
     "output_type": "execute_result"
    }
   ],
   "source": [
    "#gestion des valeurs manquantes\n",
    "df_nettoye = df.dropna(thresh=df.shape[0]*0.5, axis=1)\n",
    "\n",
    "# Remplacement des autres valeurs manquantes par la mediane\n",
    "df_nettoye.fillna(df_nettoye.median(numeric_only = True), inplace=True)\n",
    "\n",
    "# Resultats après le remplacement\n",
    "df_nettoye.isnull().sum()"
   ]
  },
  {
   "cell_type": "code",
   "execution_count": 7,
   "id": "cb6caf11-d07c-4565-b983-ef9245447250",
   "metadata": {},
   "outputs": [
    {
     "data": {
      "text/html": [
       "<div>\n",
       "<style scoped>\n",
       "    .dataframe tbody tr th:only-of-type {\n",
       "        vertical-align: middle;\n",
       "    }\n",
       "\n",
       "    .dataframe tbody tr th {\n",
       "        vertical-align: top;\n",
       "    }\n",
       "\n",
       "    .dataframe thead th {\n",
       "        text-align: right;\n",
       "    }\n",
       "</style>\n",
       "<table border=\"1\" class=\"dataframe\">\n",
       "  <thead>\n",
       "    <tr style=\"text-align: right;\">\n",
       "      <th></th>\n",
       "      <th>Latitude</th>\n",
       "      <th>Longitude</th>\n",
       "      <th>Confirmed</th>\n",
       "      <th>Recovered</th>\n",
       "      <th>Deaths</th>\n",
       "    </tr>\n",
       "  </thead>\n",
       "  <tbody>\n",
       "    <tr>\n",
       "      <th>count</th>\n",
       "      <td>1.241952e+06</td>\n",
       "      <td>1.241952e+06</td>\n",
       "      <td>1.241952e+06</td>\n",
       "      <td>1.241952e+06</td>\n",
       "      <td>1.241952e+06</td>\n",
       "    </tr>\n",
       "    <tr>\n",
       "      <th>mean</th>\n",
       "      <td>3.629947e+01</td>\n",
       "      <td>-7.527250e+01</td>\n",
       "      <td>9.520414e+03</td>\n",
       "      <td>5.691440e+03</td>\n",
       "      <td>2.526622e+02</td>\n",
       "    </tr>\n",
       "    <tr>\n",
       "      <th>std</th>\n",
       "      <td>1.171692e+01</td>\n",
       "      <td>4.848363e+01</td>\n",
       "      <td>6.426137e+04</td>\n",
       "      <td>6.148515e+04</td>\n",
       "      <td>1.820112e+03</td>\n",
       "    </tr>\n",
       "    <tr>\n",
       "      <th>min</th>\n",
       "      <td>-5.236800e+01</td>\n",
       "      <td>-1.741596e+02</td>\n",
       "      <td>-3.028440e+05</td>\n",
       "      <td>-8.544050e+05</td>\n",
       "      <td>-1.780000e+02</td>\n",
       "    </tr>\n",
       "    <tr>\n",
       "      <th>25%</th>\n",
       "      <td>3.425104e+01</td>\n",
       "      <td>-9.490582e+01</td>\n",
       "      <td>6.000000e+01</td>\n",
       "      <td>0.000000e+00</td>\n",
       "      <td>1.000000e+00</td>\n",
       "    </tr>\n",
       "    <tr>\n",
       "      <th>50%</th>\n",
       "      <td>3.793899e+01</td>\n",
       "      <td>-8.696223e+01</td>\n",
       "      <td>4.410000e+02</td>\n",
       "      <td>0.000000e+00</td>\n",
       "      <td>7.000000e+00</td>\n",
       "    </tr>\n",
       "    <tr>\n",
       "      <th>75%</th>\n",
       "      <td>4.129518e+01</td>\n",
       "      <td>-8.049988e+01</td>\n",
       "      <td>2.265000e+03</td>\n",
       "      <td>0.000000e+00</td>\n",
       "      <td>4.400000e+01</td>\n",
       "    </tr>\n",
       "    <tr>\n",
       "      <th>max</th>\n",
       "      <td>7.200000e+01</td>\n",
       "      <td>1.780650e+02</td>\n",
       "      <td>3.516998e+06</td>\n",
       "      <td>6.399531e+06</td>\n",
       "      <td>1.025620e+05</td>\n",
       "    </tr>\n",
       "  </tbody>\n",
       "</table>\n",
       "</div>"
      ],
      "text/plain": [
       "           Latitude     Longitude     Confirmed     Recovered        Deaths\n",
       "count  1.241952e+06  1.241952e+06  1.241952e+06  1.241952e+06  1.241952e+06\n",
       "mean   3.629947e+01 -7.527250e+01  9.520414e+03  5.691440e+03  2.526622e+02\n",
       "std    1.171692e+01  4.848363e+01  6.426137e+04  6.148515e+04  1.820112e+03\n",
       "min   -5.236800e+01 -1.741596e+02 -3.028440e+05 -8.544050e+05 -1.780000e+02\n",
       "25%    3.425104e+01 -9.490582e+01  6.000000e+01  0.000000e+00  1.000000e+00\n",
       "50%    3.793899e+01 -8.696223e+01  4.410000e+02  0.000000e+00  7.000000e+00\n",
       "75%    4.129518e+01 -8.049988e+01  2.265000e+03  0.000000e+00  4.400000e+01\n",
       "max    7.200000e+01  1.780650e+02  3.516998e+06  6.399531e+06  1.025620e+05"
      ]
     },
     "execution_count": 7,
     "metadata": {},
     "output_type": "execute_result"
    }
   ],
   "source": [
    "# Statistique descriptives après nettoyage\n",
    "df_nettoye.describe()"
   ]
  },
  {
   "cell_type": "code",
   "execution_count": 1,
   "id": "a99eb85e-c19e-401c-8e82-5074868ee39a",
   "metadata": {},
   "outputs": [
    {
     "ename": "NameError",
     "evalue": "name 'stats' is not defined",
     "output_type": "error",
     "traceback": [
      "\u001b[0;31m---------------------------------------------------------------------------\u001b[0m",
      "\u001b[0;31mNameError\u001b[0m                                 Traceback (most recent call last)",
      "Cell \u001b[0;32mIn[1], line 2\u001b[0m\n\u001b[1;32m      1\u001b[0m \u001b[38;5;66;03m# Test du shapiro\u001b[39;00m\n\u001b[0;32m----> 2\u001b[0m test_shapiro \u001b[38;5;241m=\u001b[39m stats\u001b[38;5;241m.\u001b[39mshapiro(df_nettoye[\u001b[38;5;124m\"\u001b[39m\u001b[38;5;124mRecovered\u001b[39m\u001b[38;5;124m\"\u001b[39m])\n\u001b[1;32m      3\u001b[0m \u001b[38;5;28mprint\u001b[39m(\u001b[38;5;124m\"\u001b[39m\u001b[38;5;124m===================================== Resultat du Test de shapiro: =================================\u001b[39m\u001b[38;5;124m\"\u001b[39m)\n\u001b[1;32m      4\u001b[0m \u001b[38;5;28mprint\u001b[39m(\u001b[38;5;124m\"\u001b[39m\u001b[38;5;124mStatistic du test de shapiro\u001b[39m\u001b[38;5;124m\"\u001b[39m, test_shapiro\u001b[38;5;241m.\u001b[39mstatistic)\n",
      "\u001b[0;31mNameError\u001b[0m: name 'stats' is not defined"
     ]
    }
   ],
   "source": [
    "# Test du shapiro\n",
    "test_shapiro = stats.shapiro(df_nettoye[\"Recovered\"])\n",
    "print(\"===================================== Resultat du Test de shapiro: =================================\")\n",
    "print(\"Statistic du test de shapiro\", test_shapiro.statistic)\n",
    "print(\"P-value du test de shapiro\", test_shapiro.pvalue)"
   ]
  },
  {
   "cell_type": "code",
   "execution_count": 21,
   "id": "cb5e69bb-65c1-4d84-95c8-07fb0b256933",
   "metadata": {},
   "outputs": [
    {
     "name": "stdout",
     "output_type": "stream",
     "text": [
      "=================================================Resultats du test T================================================\n",
      "T-statistique: -57.85, p-value: 0.00000\n",
      "Différence statistiquement significative du nbre de personnes testées positives avant et après 2021!\n"
     ]
    }
   ],
   "source": [
    "# Test T de STUDENTS: comparaison des personnes positives avant/après une année\n",
    "df_nettoye[\"Date\"] = pd.to_datetime(df_nettoye[\"Date\"])\n",
    "df_avant_annee = df_nettoye[df_nettoye[\"Date\"] < \"2021-01-01\"][\"Confirmed\"].dropna()\n",
    "df_apres_annee = df_nettoye[df_nettoye[\"Date\"] >= \"2021-01-01\"][\"Confirmed\"].dropna()\n",
    "\n",
    "# Test T pour vérifier si la moyenne des personnes confirmées a significativement augmentée apès 2021\n",
    "t_stat, p_value = stats.ttest_ind(df_avant_annee, df_apres_annee, equal_var = False, nan_policy = \"omit\")\n",
    "\n",
    "# Resultats du test T\n",
    "print(\"=================================================Resultats du test T================================================\")\n",
    "print(f\"T-statistique: {t_stat:.2f}, p-value: {p_value:.5f}\")\n",
    "\n",
    "if p_value < 0.05:\n",
    "    print(\"Différence statistiquement significative du nbre de personnes testées positives avant et après 2021!\")\n",
    "else:\n",
    "    print(\"Pas de réelle différence significative du nbre de personnes testées positives avant et après 2021!\")\n"
   ]
  },
  {
   "cell_type": "code",
   "execution_count": 23,
   "id": "c7344bae-9f24-4902-a2d7-70c3ec157041",
   "metadata": {},
   "outputs": [
    {
     "data": {
      "image/png": "[encoded data removed]",
      "text/plain": [
       "<Figure size 1000x600 with 1 Axes>"
      ]
     },
     "metadata": {},
     "output_type": "display_data"
    }
   ],
   "source": [
    "# Visualisation des distributions personnes testées positives avant et après 2021\n",
    "plt.figure(figsize=(10, 6))\n",
    "sns.histplot(df_avant_annee, color = \"orange\", label = \"Avant 2021\", kde = True, bins = 30)\n",
    "sns.histplot(df_apres_annee, color = \"green\", label = \"Apres 2021\", kde = True, bins = 30)\n",
    "plt.legend()\n",
    "plt.title(\"Distribution des personnes testées positives au COVID-19 avant et après 2021\")\n",
    "plt.show()"
   ]
  },
  {
   "cell_type": "code",
   "execution_count": 11,
   "id": "62c3b48a-d945-43d1-b663-7f30d69d075f",
   "metadata": {},
   "outputs": [
    {
     "name": "stdout",
     "output_type": "stream",
     "text": [
      "===================================== Resultat du Test de shapiro: =================================\n",
      "Statistic du test de shapiro 0.062320012109062795\n",
      "P-value du test de shapiro 3.4256691627008007e-239\n"
     ]
    }
   ],
   "source": [
    "# Matrice de correlation entre les variables\n",
    "plt.figure(figsize=(10, 6))\n",
    "sns.heatmap(df_nettoye[[\"Confirmed\", \"Recovered\", \"Deaths\"]].corr(), annot = True, cmap = \"coolwarm\", fmt = \".2f\")\n",
    "plt.title(\"Correlation entre les personnes testées positives, les rétablies, les décédées\")\n",
    "plt.show()"
   ]
  },
  {
   "cell_type": "code",
   "execution_count": null,
   "id": "7cde9ca9-c574-4b3c-9053-7f97a03e7a0f",
   "metadata": {},
   "outputs": [],
   "source": []
  }
 ],
 "metadata": {
  "kernelspec": {
   "display_name": "Python 3 (ipykernel)",
   "language": "python",
   "name": "python3"
  },
  "language_info": {
   "codemirror_mode": {
    "name": "ipython",
    "version": 3
   },
   "file_extension": ".py",
   "mimetype": "text/x-python",
   "name": "python",
   "nbconvert_exporter": "python",
   "pygments_lexer": "ipython3",
   "version": "3.12.7"
  }
 },
 "nbformat": 4,
 "nbformat_minor": 5
}
